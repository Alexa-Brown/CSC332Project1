{
 "cells": [
  {
   "cell_type": "code",
   "execution_count": 1,
   "id": "d5a236c0-c963-4e0f-9e54-88f192b5cfb7",
   "metadata": {},
   "outputs": [],
   "source": [
    "import serial"
   ]
  },
  {
   "cell_type": "code",
   "execution_count": 2,
   "id": "f271aef3-8153-4a3f-a650-b1bda1b34818",
   "metadata": {},
   "outputs": [],
   "source": [
    "import pyautogui as pg\n"
   ]
  },
  {
   "cell_type": "code",
   "execution_count": 5,
   "id": "0cf5037e-5be4-47b0-8a0d-244aff52f073",
   "metadata": {},
   "outputs": [
    {
     "ename": "ValueError",
     "evalue": "not enough values to unpack (expected 3, got 1)",
     "output_type": "error",
     "traceback": [
      "\u001b[1;31m---------------------------------------------------------------------------\u001b[0m",
      "\u001b[1;31mValueError\u001b[0m                                Traceback (most recent call last)",
      "Input \u001b[1;32mIn [5]\u001b[0m, in \u001b[0;36m<module>\u001b[1;34m\u001b[0m\n\u001b[0;32m     10\u001b[0m \u001b[38;5;28;01mwhile\u001b[39;00m \u001b[38;5;241m1\u001b[39m:\n\u001b[0;32m     11\u001b[0m    data\u001b[38;5;241m=\u001b[39m\u001b[38;5;28mstr\u001b[39m(ArduinoSerial\u001b[38;5;241m.\u001b[39mreadline()\u001b[38;5;241m.\u001b[39mdecode(\u001b[38;5;124m'\u001b[39m\u001b[38;5;124mascii\u001b[39m\u001b[38;5;124m'\u001b[39m))   \u001b[38;5;66;03m#read the data\u001b[39;00m\n\u001b[1;32m---> 12\u001b[0m    (x,y,z)\u001b[38;5;241m=\u001b[39mdata\u001b[38;5;241m.\u001b[39msplit(\u001b[38;5;124m\"\u001b[39m\u001b[38;5;124m:\u001b[39m\u001b[38;5;124m\"\u001b[39m)           \u001b[38;5;66;03m# assigns to x,y and z\u001b[39;00m\n\u001b[0;32m     13\u001b[0m    (X,Y)\u001b[38;5;241m=\u001b[39mmouse\u001b[38;5;241m.\u001b[39mget_position()        \u001b[38;5;66;03m#read the cursor's current position\u001b[39;00m\n\u001b[0;32m     14\u001b[0m    (x,y)\u001b[38;5;241m=\u001b[39m(\u001b[38;5;28mint\u001b[39m(x),\u001b[38;5;28mint\u001b[39m(y))                           \u001b[38;5;66;03m#convert to int\u001b[39;00m\n",
      "\u001b[1;31mValueError\u001b[0m: not enough values to unpack (expected 3, got 1)"
     ]
    }
   ],
   "source": [
    "#adapted from https://create.arduino.cc/projecthub/shubhamsantosh99/joystick-controlled-mouse-af2939\n",
    "import mouse, sys\n",
    "import time \n",
    "import serial\n",
    "\n",
    "mouse.FAILSAFE=False\n",
    "ArduinoSerial=serial.Serial('COM5',9600)  #Specify the correct COM port\n",
    "time.sleep(1)                             #delay of 1 second\n",
    "\n",
    "while 1:\n",
    "   data=str(ArduinoSerial.readline().decode('ascii'))   #read the data\n",
    "   (x,y,z)=data.split(\":\")           # assigns to x,y and z\n",
    "   (X,Y)=mouse.get_position()        #read the cursor's current position\n",
    "   (x,y)=(int(x),int(y))                           #convert to int\n",
    "   mouse.move(X+x,Y-y)           #move cursor to desired position\n",
    "   if '1' in z:                        # read the Status of SW\n",
    "      mouse.click(button=\"left\")    # clicks left button\n",
    "     "
   ]
  },
  {
   "cell_type": "code",
   "execution_count": 25,
   "id": "d5813a09-2520-4b38-b2d1-af60781b77e1",
   "metadata": {},
   "outputs": [],
   "source": [
    "import mouse, sys\n",
    "import time \n",
    "import serial"
   ]
  },
  {
   "cell_type": "code",
   "execution_count": null,
   "id": "2cc25699-e489-47eb-932f-d42d6572fdac",
   "metadata": {},
   "outputs": [],
   "source": []
  }
 ],
 "metadata": {
  "kernelspec": {
   "display_name": "Python 3 (ipykernel)",
   "language": "python",
   "name": "python3"
  },
  "language_info": {
   "codemirror_mode": {
    "name": "ipython",
    "version": 3
   },
   "file_extension": ".py",
   "mimetype": "text/x-python",
   "name": "python",
   "nbconvert_exporter": "python",
   "pygments_lexer": "ipython3",
   "version": "3.10.2"
  }
 },
 "nbformat": 4,
 "nbformat_minor": 5
}
